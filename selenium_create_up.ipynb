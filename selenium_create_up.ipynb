{
  "cells": [
    {
      "cell_type": "code",
      "metadata": {
        "id": "8ejMvIbPAkBm",
        "colab_type": "code",
        "colab": {}
      },
      "source": [
        "!apt-get update\n",
        "!apt install chromium-chromedriver\n",
        "!cp /usr/lib/chromium-browser/chromedriver /usr/bin\n",
        "!pip install selenium"
      ],
      "execution_count": 0,
      "outputs": []
    },
    {
      "cell_type": "code",
      "metadata": {
        "id": "ZZhRtjcRPd3h",
        "colab_type": "code",
        "colab": {}
      },
      "source": [
        "import os\n",
        "import time\n",
        "\n",
        "from selenium import webdriver\n",
        "from selenium.webdriver.support.ui import WebDriverWait\n",
        "from selenium.webdriver.support import expected_conditions as EC\n",
        "from selenium.webdriver.common.by import By\n",
        "from selenium.webdriver.support.select import Select\n",
        "from PIL import Image"
      ],
      "execution_count": 0,
      "outputs": []
    },
    {
      "cell_type": "code",
      "metadata": {
        "id": "blsaxJQk__zC",
        "colab_type": "code",
        "colab": {},
        "cellView": "form"
      },
      "source": [
        "#@title Enter Login Infomation\n",
        "email_google = \"gmail_address@gmail.com\" #@param {type: \"string\"}\n",
        "password_google = \"password\"#@param {type: \"string\"}\n",
        "phone_number = '00011112222'#@param {type: \"string\"}\n",
        "\n",
        "options = webdriver.ChromeOptions()\n",
        "datadir = 'userdata'\n",
        "os.makedirs(datadir, exist_ok=True)\n",
        "options.add_argument('--user-data-dir='+datadir)\n",
        "options.add_argument('--headless')\n",
        "options.add_argument('--no-sandbox')\n",
        "options.add_argument('--disable-dev-shm-usage')\n",
        "# open it, go to a website, and get results\n",
        "wd = webdriver.Chrome('chromedriver',options=options)\n",
        "wd.get(\"https://colab.research.google.com/github/Sakai0127/Create_UserProfile_in_Colab/selenium_create_up.ipynb\")\n",
        "time.sleep(5)\n",
        "wd.find_element_by_id('gb_70').click()\n",
        "time.sleep(5)"
      ],
      "execution_count": 0,
      "outputs": []
    },
    {
      "cell_type": "code",
      "metadata": {
        "id": "udN7qBp8K6jP",
        "colab_type": "code",
        "colab": {}
      },
      "source": [
        "target_xpath = '//*[@id=\"identifierId\"]|//*[@id=\"Email\"]'\n",
        "element = wd.find_element_by_xpath(target_xpath).send_keys(email_google)\n",
        "wd.save_screenshot('test_00.png')\n",
        "button_xpath = '//*[@id=\"identifierNext\"]|//*[@id=\"next\"]'\n",
        "wd.find_element_by_xpath(button_xpath).click()\n",
        "time.sleep(5)\n",
        "wd.save_screenshot('letters.png')\n",
        "img = Image.open('letters.png')\n",
        "img = img.crop((250, 390, 550, 450))\n",
        "img"
      ],
      "execution_count": 0,
      "outputs": []
    },
    {
      "cell_type": "code",
      "metadata": {
        "id": "e-uyePVyL5Jn",
        "colab_type": "code",
        "colab": {},
        "cellView": "form"
      },
      "source": [
        "letters = ''#@param {type: \"string\"}\n",
        "wd.find_element_by_id('identifier-captcha-input').send_keys(letters)\n",
        "button_xpath = '//*[@id=\"identifierNext\"]|//*[@id=\"next\"]'\n",
        "wd.find_element_by_xpath(button_xpath).click()\n",
        "time.sleep(5)\n",
        "wd.save_screenshot('test3.png')"
      ],
      "execution_count": 0,
      "outputs": []
    },
    {
      "cell_type": "code",
      "metadata": {
        "id": "h7xBO4TkMmDE",
        "colab_type": "code",
        "colab": {}
      },
      "source": [
        "password = WebDriverWait(wd, 10).until(EC.presence_of_element_located((By.XPATH, \"//input[@type='password']\")))\n",
        "password.send_keys(password_google)\n",
        "element = wd.find_element_by_id('submit')\n",
        "element.click()\n",
        "time.sleep(5)\n",
        "wd.save_screenshot('test_01.png')"
      ],
      "execution_count": 0,
      "outputs": []
    },
    {
      "cell_type": "code",
      "metadata": {
        "id": "mknGLWS5Sj-w",
        "colab_type": "code",
        "colab": {}
      },
      "source": [
        "s = wd.find_element_by_id('countryList')\n",
        "select = Select(s)\n",
        "select.select_by_value('JP')\n",
        "wd.find_element_by_id('phoneNumber').send_keys(phone_number)\n",
        "wd.find_element_by_id('submitSms').click()\n",
        "time.sleep(5)\n",
        "wd.save_screenshot('test_02.png')"
      ],
      "execution_count": 0,
      "outputs": []
    },
    {
      "cell_type": "code",
      "metadata": {
        "id": "Wi-d6w0bVcFC",
        "colab_type": "code",
        "colab": {},
        "cellView": "form"
      },
      "source": [
        "code = '000000'#@param {type: \"string\"}\n",
        "wd.find_element_by_id('pin').send_keys(code)\n",
        "wd.find_element_by_id('submit').click()\n",
        "time.sleep(5)\n",
        "wd.save_screenshot('test6.png')"
      ],
      "execution_count": 0,
      "outputs": []
    },
    {
      "cell_type": "code",
      "metadata": {
        "id": "HEbm_mLzYFl2",
        "colab_type": "code",
        "colab": {}
      },
      "source": [
        "wd.quit()"
      ],
      "execution_count": 0,
      "outputs": []
    },
    {
      "cell_type": "code",
      "metadata": {
        "id": "9Bn3F2yPYII0",
        "colab_type": "code",
        "colab": {}
      },
      "source": [
        "options = webdriver.ChromeOptions()\n",
        "options.add_argument('--user-data-dir='+datadir)\n",
        "options.add_argument('--headless')\n",
        "options.add_argument('--no-sandbox')\n",
        "options.add_argument('--disable-dev-shm-usage')\n",
        "wd = webdriver.Chrome('chromedriver',options=options)\n",
        "wd.get(\"https://www.google.com/\")\n",
        "time.sleep(5)\n",
        "wd.execute_script(\"window.scrollTo(400, 200)\")\n",
        "wd.save_screenshot('login_test.png')"
      ],
      "execution_count": 0,
      "outputs": []
    },
    {
      "cell_type": "code",
      "metadata": {
        "id": "WuNN3Lww1Efd",
        "colab_type": "code",
        "colab": {}
      },
      "source": [
        "!zip -r userprofile.zip userdata"
      ],
      "execution_count": 0,
      "outputs": []
    }
  ],
  "metadata": {
    "colab": {
      "name": "selenium_create_up",
      "provenance": [],
      "private_outputs": true,
      "collapsed_sections": []
    },
    "kernelspec": {
      "name": "python3",
      "display_name": "Python 3"
    }
  },
  "nbformat": 4,
  "nbformat_minor": 0
}